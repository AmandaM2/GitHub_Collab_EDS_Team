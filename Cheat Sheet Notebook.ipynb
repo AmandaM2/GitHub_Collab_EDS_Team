{
 "cells": [
  {
   "cell_type": "markdown",
   "id": "59b09cdf-de78-4df1-83c2-05da5b55a3c5",
   "metadata": {},
   "source": [
    "### GitHub Collab EDS Team"
   ]
  },
  {
   "cell_type": "markdown",
   "id": "db16bba6-2e35-41fb-b504-43297a65dfc0",
   "metadata": {},
   "source": [
    "### Jodie\n",
    "\n",
    "**Recursive and Lambda functions**"
   ]
  },
  {
   "cell_type": "code",
   "execution_count": null,
   "id": "04c18d1e-66c3-4290-a2d8-a0e0782c49ef",
   "metadata": {},
   "outputs": [],
   "source": []
  },
  {
   "cell_type": "markdown",
   "id": "c8507f68-e694-4d73-a7fd-19347243fb63",
   "metadata": {},
   "source": [
    "## Amanda\n",
    "\n",
    "**Python variebles, Data types and Data Structures**"
   ]
  },
  {
   "cell_type": "code",
   "execution_count": null,
   "id": "0c3cb707-7788-4257-b45b-e4c1a05dd758",
   "metadata": {},
   "outputs": [],
   "source": []
  },
  {
   "cell_type": "markdown",
   "id": "8751fabc-fa03-41b3-908f-94325a73f7c1",
   "metadata": {},
   "source": [
    "## Kamogelo\n",
    "\n",
    "**Logic and Loops in Python**"
   ]
  },
  {
   "cell_type": "code",
   "execution_count": null,
   "id": "9506533e-89c8-4dd8-90a7-8d5d2bcab4bf",
   "metadata": {},
   "outputs": [],
   "source": []
  },
  {
   "cell_type": "markdown",
   "id": "adb1f0f9-d3ed-49d0-9df3-cc3664e9c6c3",
   "metadata": {},
   "source": [
    "## Clement\n",
    "\n",
    "**Classes, Objects and Methods**"
   ]
  },
  {
   "cell_type": "code",
   "execution_count": null,
   "id": "ce288b1f-27df-4e25-ba60-33c248e115e8",
   "metadata": {},
   "outputs": [],
   "source": []
  },
  {
   "cell_type": "markdown",
   "id": "6d294473-4773-4838-bc86-0f68c6054732",
   "metadata": {},
   "source": [
    "## Kgolo\n",
    "\n",
    "**Functions**"
   ]
  },
  {
   "cell_type": "code",
   "execution_count": null,
   "id": "11267cd3-cdc4-4b49-a28f-c00d3d899e5e",
   "metadata": {},
   "outputs": [],
   "source": []
  },
  {
   "cell_type": "markdown",
   "id": "ca11f38a-2b07-44d0-9cc1-d9111d48e167",
   "metadata": {},
   "source": [
    "## Paballo\n",
    "\n",
    "**Numpy**"
   ]
  },
  {
   "cell_type": "code",
   "execution_count": null,
   "id": "9d9a4973-dc9a-472c-91a9-5c56d12355c0",
   "metadata": {},
   "outputs": [],
   "source": []
  },
  {
   "cell_type": "markdown",
   "id": "9ee0b431-215b-4ade-96a5-33b2f5728c14",
   "metadata": {},
   "source": [
    "## Amatulla\n",
    "\n",
    "**Pandas**"
   ]
  },
  {
   "cell_type": "code",
   "execution_count": null,
   "id": "98f32c47-468e-4624-8f7d-5b39e8aea43e",
   "metadata": {},
   "outputs": [],
   "source": []
  }
 ],
 "metadata": {
  "kernelspec": {
   "display_name": "Python 3 (ipykernel)",
   "language": "python",
   "name": "python3"
  },
  "language_info": {
   "codemirror_mode": {
    "name": "ipython",
    "version": 3
   },
   "file_extension": ".py",
   "mimetype": "text/x-python",
   "name": "python",
   "nbconvert_exporter": "python",
   "pygments_lexer": "ipython3",
   "version": "3.11.8"
  }
 },
 "nbformat": 4,
 "nbformat_minor": 5
}
