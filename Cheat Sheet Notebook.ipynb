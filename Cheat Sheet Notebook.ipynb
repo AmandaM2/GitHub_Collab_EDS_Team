{
 "cells": [
  {
   "cell_type": "markdown",
   "id": "59b09cdf-de78-4df1-83c2-05da5b55a3c5",
   "metadata": {},
   "source": [
    "### GitHub Collab EDS Team"
   ]
  },
  {
   "cell_type": "markdown",
   "id": "db16bba6-2e35-41fb-b504-43297a65dfc0",
   "metadata": {},
   "source": [
    "### Jodie\n",
    "\n",
    "**Recursive functions**"
   ]
  },
  {
   "cell_type": "markdown",
   "id": "9f5b5602",
   "metadata": {},
   "source": [
    "##### Definition:\n",
    "A recursive function is a function that calls itself during its execution\n",
    "\n",
    "A recursive function has 2 parts:\n",
    "1. Base case(S): A condition that stops the recursive function from calling itself, preventing infinite recursion\n",
    "2. Recurvsive case: The scenario where the function calls itself with modified arguments to move closer to the base case."
   ]
  },
  {
   "cell_type": "markdown",
   "id": "dd552234",
   "metadata": {},
   "source": [
    "##### Pros:\n",
    "- Can solve complex problems with less code\n",
    "- Can be easier to understand for certain problems\n",
    "\n",
    "##### Cons:\n",
    "- Can be less efficient and use more memory compared to iterative solutions\n",
    "- May lead to stack overflow for errors for large inputs"
   ]
  },
  {
   "cell_type": "markdown",
   "id": "434a75ac",
   "metadata": {},
   "source": [
    "##### Syntax:\n",
    "\n",
    "def function_name(arguments):\n",
    "    \n",
    "    # Base case:\n",
    "    if condition:\n",
    "        return output\n",
    "    \n",
    "    # Recursive case:\n",
    "    else:\n",
    "        return output in which the function is called with modified arguments"
   ]
  },
  {
   "cell_type": "markdown",
   "id": "2f428a60",
   "metadata": {},
   "source": [
    "##### Example: Fibonacci sequence\n",
    "\n",
    "###### The Fibonacci sequence is a sequence in which each number is the sum of the two preceding ones. Fibonacci_sequence = [0, 1, 1, 2, 3, 5, 8, 13, 21, .........., n-2, n-1, n]\n"
   ]
  },
  {
   "cell_type": "code",
   "execution_count": 13,
   "id": "ba7df70d",
   "metadata": {},
   "outputs": [],
   "source": [
    "def fibonacci(n):\n",
    "    \"\"\"\n",
    "    Calculates the nth Fibonacci number\n",
    "\n",
    "    Parameters:\n",
    "        n (int): The index of the Fibonacci number to calculate.\n",
    "\n",
    "    Returns:\n",
    "        int: The nth Fibonacci number\n",
    "    \"\"\"\n",
    "    # Base case:\n",
    "    if n <= 1:\n",
    "        return n\n",
    "\n",
    "    # Recursive case:\n",
    "    else:\n",
    "        return fibonacci(n-1) + fibonacci(n-2)"
   ]
  },
  {
   "cell_type": "code",
   "execution_count": 14,
   "id": "fe0d4d94",
   "metadata": {},
   "outputs": [
    {
     "data": {
      "text/plain": [
       "2"
      ]
     },
     "execution_count": 14,
     "metadata": {},
     "output_type": "execute_result"
    }
   ],
   "source": [
    "# Usage: Change the input here to calculate the Fibonnaci number at the corresponding index\n",
    "fibonacci(3)"
   ]
  },
  {
   "cell_type": "markdown",
   "id": "4b113a62",
   "metadata": {},
   "source": [
    "**Lambda functions**"
   ]
  },
  {
   "cell_type": "markdown",
   "id": "093a3c77",
   "metadata": {},
   "source": [
    "##### Definition:\n",
    "AKA anonymous functions, lambda functions are small functions that can be expressed in a single line"
   ]
  },
  {
   "cell_type": "markdown",
   "id": "7b11522c",
   "metadata": {},
   "source": [
    "##### Use cases:\n",
    "\n",
    "- Used as arguments to higher order function like map() and filter() - See below\n",
    "- Concise one-liner functions\n",
    "\n",
    "##### Limitations:\n",
    "\n",
    "- Can only contain a single expression\n",
    "- May be less readable for complex operations\n"
   ]
  },
  {
   "cell_type": "markdown",
   "id": "41486a84",
   "metadata": {},
   "source": [
    "##### Syntax:\n",
    "\n",
    "Lambda functions do not have a name, but can be used adhoc or stored in a Python object for reuse\n",
    "\n",
    "- Single argument: \n",
    "\n",
    "    object_name = lambda argument : expression\n",
    "\n",
    "- Multiple arguments: Arguments separated by ','\n",
    "\n",
    "    object_name = lambda arg1, arg2 : expression"
   ]
  },
  {
   "cell_type": "markdown",
   "id": "9cd28de7",
   "metadata": {},
   "source": [
    "##### Example: Adding two variables (x and y)"
   ]
  },
  {
   "cell_type": "code",
   "execution_count": 16,
   "id": "ca8cba92",
   "metadata": {},
   "outputs": [],
   "source": [
    "add = lambda x, y : x + y"
   ]
  },
  {
   "cell_type": "code",
   "execution_count": 17,
   "id": "a908eebf",
   "metadata": {},
   "outputs": [
    {
     "data": {
      "text/plain": [
       "8"
      ]
     },
     "execution_count": 17,
     "metadata": {},
     "output_type": "execute_result"
    }
   ],
   "source": [
    "# Usage: Change the input here to calculate the sum of different numbers\n",
    "\n",
    "add(3,5)"
   ]
  },
  {
   "cell_type": "code",
   "execution_count": 18,
   "id": "3e145452",
   "metadata": {},
   "outputs": [
    {
     "data": {
      "text/plain": [
       "8"
      ]
     },
     "execution_count": 18,
     "metadata": {},
     "output_type": "execute_result"
    }
   ],
   "source": [
    "# Alternatively, without an object:\n",
    "\n",
    "(lambda x, y : x + y)(3,5)"
   ]
  },
  {
   "cell_type": "markdown",
   "id": "748f90cd",
   "metadata": {},
   "source": [
    "##### Mapping a lambda function to an iterable sequence\n",
    "- Allows you to to apply the lambda function to every element in a list\n",
    "- The result is a map object - we can convert this to a list using list()\n",
    "\n",
    "SYNTAX:\n",
    "list( map( lambda arguments : expression, sequence) )"
   ]
  },
  {
   "cell_type": "markdown",
   "id": "efe60edd",
   "metadata": {},
   "source": [
    "Example: Squaring each number in a list"
   ]
  },
  {
   "cell_type": "code",
   "execution_count": 20,
   "id": "2b235f6e",
   "metadata": {},
   "outputs": [
    {
     "data": {
      "text/plain": [
       "[1, 4, 9, 16, 25]"
      ]
     },
     "execution_count": 20,
     "metadata": {},
     "output_type": "execute_result"
    }
   ],
   "source": [
    "numbers = [1, 2, 3, 4, 5]\n",
    "\n",
    "list(map( lambda x : x ** 2, numbers))"
   ]
  },
  {
   "cell_type": "markdown",
   "id": "73a4f46f",
   "metadata": {},
   "source": [
    "##### Filtering an iterable sequence based on a condition using a lambda function\n",
    "\n",
    "- The filter function applies a specified function to each item in a list in order to filter out elements that do not meet the condition defined in the function\n",
    "- The result is a map object - we can convert this to a list using list()\n",
    "\n",
    "SYNTAX: list(filter( lambda arguments: conditional expression, sequence) )"
   ]
  },
  {
   "cell_type": "markdown",
   "id": "d8da226b",
   "metadata": {},
   "source": [
    "Example: Filtering out the even numbers from a list"
   ]
  },
  {
   "cell_type": "code",
   "execution_count": 22,
   "id": "2136b04a",
   "metadata": {},
   "outputs": [
    {
     "data": {
      "text/plain": [
       "[2, 4]"
      ]
     },
     "execution_count": 22,
     "metadata": {},
     "output_type": "execute_result"
    }
   ],
   "source": [
    "numbers = [1, 2, 3, 4, 5]\n",
    "\n",
    "list(filter( lambda x : x % 2 == 0, numbers))"
   ]
  },
  {
   "cell_type": "markdown",
   "id": "c8507f68-e694-4d73-a7fd-19347243fb63",
   "metadata": {},
   "source": [
    "## Amanda\n",
    "\n",
    "**Python variebles, Data types and Data Structures**"
   ]
  },
  {
   "cell_type": "code",
   "execution_count": null,
   "id": "0c3cb707-7788-4257-b45b-e4c1a05dd758",
   "metadata": {},
   "outputs": [],
   "source": []
  },
  {
   "cell_type": "markdown",
   "id": "8751fabc-fa03-41b3-908f-94325a73f7c1",
   "metadata": {},
   "source": [
    "## Kamogelo\n",
    "\n",
    "**Logic and Loops in Python**"
   ]
  },
  {
   "cell_type": "code",
   "execution_count": null,
   "id": "9506533e-89c8-4dd8-90a7-8d5d2bcab4bf",
   "metadata": {},
   "outputs": [],
   "source": []
  },
  {
   "cell_type": "markdown",
   "id": "adb1f0f9-d3ed-49d0-9df3-cc3664e9c6c3",
   "metadata": {},
   "source": [
    "## Clement\n",
    "\n",
    "**Classes, Objects and Methods**"
   ]
  },
  {
   "cell_type": "code",
   "execution_count": null,
   "id": "ce288b1f-27df-4e25-ba60-33c248e115e8",
   "metadata": {},
   "outputs": [],
   "source": []
  },
  {
   "cell_type": "markdown",
   "id": "6d294473-4773-4838-bc86-0f68c6054732",
   "metadata": {},
   "source": [
    "## Kgolo\n",
    "\n",
    "**Functions**"
   ]
  },
  {
   "cell_type": "code",
   "execution_count": null,
   "id": "11267cd3-cdc4-4b49-a28f-c00d3d899e5e",
   "metadata": {},
   "outputs": [],
   "source": []
  },
  {
   "cell_type": "markdown",
   "id": "ca11f38a-2b07-44d0-9cc1-d9111d48e167",
   "metadata": {},
   "source": [
    "## Paballo\n",
    "\n",
    "**Numpy**"
   ]
  },
  {
   "cell_type": "code",
   "execution_count": null,
   "id": "9d9a4973-dc9a-472c-91a9-5c56d12355c0",
   "metadata": {},
   "outputs": [],
   "source": []
  },
  {
   "cell_type": "markdown",
   "id": "9ee0b431-215b-4ade-96a5-33b2f5728c14",
   "metadata": {},
   "source": [
    "## Amatulla\n",
    "\n",
    "**Pandas**"
   ]
  },
  {
   "cell_type": "code",
   "execution_count": null,
   "id": "98f32c47-468e-4624-8f7d-5b39e8aea43e",
   "metadata": {},
   "outputs": [],
   "source": []
  }
 ],
 "metadata": {
  "kernelspec": {
   "display_name": "Python 3 (ipykernel)",
   "language": "python",
   "name": "python3"
  },
  "language_info": {
   "codemirror_mode": {
    "name": "ipython",
    "version": 3
   },
   "file_extension": ".py",
   "mimetype": "text/x-python",
   "name": "python",
   "nbconvert_exporter": "python",
   "pygments_lexer": "ipython3",
   "version": "3.11.8"
  }
 },
 "nbformat": 4,
 "nbformat_minor": 5
}
